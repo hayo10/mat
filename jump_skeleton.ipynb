{
 "cells": [
  {
   "cell_type": "code",
   "execution_count": 1,
   "id": "ec8a750a",
   "metadata": {},
   "outputs": [],
   "source": [
    "import pickle\n",
    "import sys\n",
    "import os\n",
    "# current_dir = os.getcwd()\n",
    "# parent_dir = os.path.dirname(current_dir)\n",
    "# sys.path.append(parent_dir)\n",
    "\n",
    "from _aux_mamba import get_tokenizer, get_model"
   ]
  },
  {
   "cell_type": "code",
   "execution_count": 2,
   "id": "1ba9bc57",
   "metadata": {},
   "outputs": [],
   "source": [
    "import torch\n",
    "from torch import nn\n",
    "import torch.nn.functional as F\n",
    "import evaluate\n",
    "from operator import itemgetter\n",
    "from datasets import load_dataset\n",
    "import time"
   ]
  },
  {
   "cell_type": "code",
   "execution_count": 3,
   "id": "0cab64cc",
   "metadata": {},
   "outputs": [
    {
     "name": "stdout",
     "output_type": "stream",
     "text": [
      "MambaForCausalLM(\n",
      "  (backbone): MambaModel(\n",
      "    (embeddings): Embedding(50280, 768)\n",
      "    (layers): ModuleList(\n",
      "      (0-23): 24 x MambaBlock(\n",
      "        (norm): MambaRMSNorm()\n",
      "        (mixer): MambaMixer(\n",
      "          (conv1d): Conv1d(1536, 1536, kernel_size=(4,), stride=(1,), padding=(3,), groups=1536)\n",
      "          (act): SiLU()\n",
      "          (in_proj): Linear(in_features=768, out_features=3072, bias=False)\n",
      "          (x_proj): Linear(in_features=1536, out_features=80, bias=False)\n",
      "          (dt_proj): Linear(in_features=48, out_features=1536, bias=True)\n",
      "          (out_proj): Linear(in_features=1536, out_features=768, bias=False)\n",
      "        )\n",
      "      )\n",
      "    )\n",
      "    (norm_f): MambaRMSNorm()\n",
      "  )\n",
      "  (lm_head): Linear(in_features=768, out_features=50280, bias=False)\n",
      ")\n"
     ]
    }
   ],
   "source": [
    "basemodel = get_model('state-spaces/mamba-130m-hf')\n",
    "print(basemodel)"
   ]
  },
  {
   "cell_type": "code",
   "execution_count": 4,
   "id": "fbc631cf",
   "metadata": {},
   "outputs": [
    {
     "name": "stderr",
     "output_type": "stream",
     "text": [
      "Special tokens have been added in the vocabulary, make sure the associated word embeddings are fine-tuned or trained.\n"
     ]
    }
   ],
   "source": [
    "basetokenizer = get_tokenizer('state-spaces/mamba-130m-hf')"
   ]
  },
  {
   "cell_type": "code",
   "execution_count": 5,
   "id": "e7e3a6d1",
   "metadata": {},
   "outputs": [],
   "source": [
    "dataset = load_dataset(\"EdinburghNLP/xsum\")"
   ]
  },
  {
   "cell_type": "code",
   "execution_count": 6,
   "id": "e210cfbb",
   "metadata": {},
   "outputs": [],
   "source": [
    "# load r2scores\n",
    "file1 = 'experiment/mamba-130m-hf/xsum_r2_scores.pickle'\n",
    "with open(file1, 'rb') as file:\n",
    "    r2_scores = pickle.load(file)"
   ]
  },
  {
   "cell_type": "code",
   "execution_count": 7,
   "id": "8a86e9e8",
   "metadata": {},
   "outputs": [],
   "source": [
    "# list of the r2_score's key\n",
    "connections = list(r2_scores['score_mat'].keys())"
   ]
  },
  {
   "cell_type": "code",
   "execution_count": 8,
   "id": "22c02770",
   "metadata": {},
   "outputs": [
    {
     "data": {
      "text/plain": [
       "(0, 1)"
      ]
     },
     "execution_count": 8,
     "metadata": {},
     "output_type": "execute_result"
    }
   ],
   "source": [
    "connections[0]"
   ]
  },
  {
   "cell_type": "code",
   "execution_count": 16,
   "id": "909bb2d3",
   "metadata": {},
   "outputs": [],
   "source": [
    "\"\"\"\n",
    "LayerSelector \n",
    ": select layers included in forwarding.\n",
    "n is the number of selected layers.\n",
    "0th mamba_blocks is always included, So we need to select intermediate layers(n-1).\n",
    "\n",
    "I implemented this LayerSelector class that makes all possible selected layer list now.\n",
    "-> this implementation requires too much resources.\n",
    "-> todo : Change this process with an algorithm\n",
    "\n",
    "\"\"\"\n",
    "class LayerSelector:\n",
    "    def __init__(self, n):\n",
    "        self.n = n\n",
    "        self.selected_layers = []\n",
    "        self.arch = []\n",
    "\n",
    "    def selecting(self, prev, num_selected):\n",
    "        if num_selected == self.n - 1:\n",
    "            self.selected_layers.insert(0, 0)\n",
    "            self.arch.append(self.selected_layers[:])\n",
    "            self.selected_layers.pop(0)\n",
    "            return\n",
    "\n",
    "        for i in range(prev + 1, 25):\n",
    "            self.selected_layers.append(i)\n",
    "            self.selecting(i, num_selected + 1)\n",
    "            self.selected_layers.pop()\n",
    "\n",
    "    def select_layer(self):\n",
    "        self.selecting(0, 0)\n",
    "        return self.arch"
   ]
  },
  {
   "cell_type": "code",
   "execution_count": 17,
   "id": "d9972acd",
   "metadata": {},
   "outputs": [
    {
     "name": "stdout",
     "output_type": "stream",
     "text": [
      "[[0, 1, 2], [0, 1, 3], [0, 1, 4], [0, 1, 5], [0, 1, 6], [0, 1, 7], [0, 1, 8], [0, 1, 9], [0, 1, 10], [0, 1, 11], [0, 1, 12], [0, 1, 13], [0, 1, 14], [0, 1, 15], [0, 1, 16], [0, 1, 17], [0, 1, 18], [0, 1, 19], [0, 1, 20], [0, 1, 21], [0, 1, 22], [0, 1, 23], [0, 1, 24], [0, 2, 3], [0, 2, 4], [0, 2, 5], [0, 2, 6], [0, 2, 7], [0, 2, 8], [0, 2, 9], [0, 2, 10], [0, 2, 11], [0, 2, 12], [0, 2, 13], [0, 2, 14], [0, 2, 15], [0, 2, 16], [0, 2, 17], [0, 2, 18], [0, 2, 19], [0, 2, 20], [0, 2, 21], [0, 2, 22], [0, 2, 23], [0, 2, 24], [0, 3, 4], [0, 3, 5], [0, 3, 6], [0, 3, 7], [0, 3, 8], [0, 3, 9], [0, 3, 10], [0, 3, 11], [0, 3, 12], [0, 3, 13], [0, 3, 14], [0, 3, 15], [0, 3, 16], [0, 3, 17], [0, 3, 18], [0, 3, 19], [0, 3, 20], [0, 3, 21], [0, 3, 22], [0, 3, 23], [0, 3, 24], [0, 4, 5], [0, 4, 6], [0, 4, 7], [0, 4, 8], [0, 4, 9], [0, 4, 10], [0, 4, 11], [0, 4, 12], [0, 4, 13], [0, 4, 14], [0, 4, 15], [0, 4, 16], [0, 4, 17], [0, 4, 18], [0, 4, 19], [0, 4, 20], [0, 4, 21], [0, 4, 22], [0, 4, 23], [0, 4, 24], [0, 5, 6], [0, 5, 7], [0, 5, 8], [0, 5, 9], [0, 5, 10], [0, 5, 11], [0, 5, 12], [0, 5, 13], [0, 5, 14], [0, 5, 15], [0, 5, 16], [0, 5, 17], [0, 5, 18], [0, 5, 19], [0, 5, 20], [0, 5, 21], [0, 5, 22], [0, 5, 23], [0, 5, 24], [0, 6, 7], [0, 6, 8], [0, 6, 9], [0, 6, 10], [0, 6, 11], [0, 6, 12], [0, 6, 13], [0, 6, 14], [0, 6, 15], [0, 6, 16], [0, 6, 17], [0, 6, 18], [0, 6, 19], [0, 6, 20], [0, 6, 21], [0, 6, 22], [0, 6, 23], [0, 6, 24], [0, 7, 8], [0, 7, 9], [0, 7, 10], [0, 7, 11], [0, 7, 12], [0, 7, 13], [0, 7, 14], [0, 7, 15], [0, 7, 16], [0, 7, 17], [0, 7, 18], [0, 7, 19], [0, 7, 20], [0, 7, 21], [0, 7, 22], [0, 7, 23], [0, 7, 24], [0, 8, 9], [0, 8, 10], [0, 8, 11], [0, 8, 12], [0, 8, 13], [0, 8, 14], [0, 8, 15], [0, 8, 16], [0, 8, 17], [0, 8, 18], [0, 8, 19], [0, 8, 20], [0, 8, 21], [0, 8, 22], [0, 8, 23], [0, 8, 24], [0, 9, 10], [0, 9, 11], [0, 9, 12], [0, 9, 13], [0, 9, 14], [0, 9, 15], [0, 9, 16], [0, 9, 17], [0, 9, 18], [0, 9, 19], [0, 9, 20], [0, 9, 21], [0, 9, 22], [0, 9, 23], [0, 9, 24], [0, 10, 11], [0, 10, 12], [0, 10, 13], [0, 10, 14], [0, 10, 15], [0, 10, 16], [0, 10, 17], [0, 10, 18], [0, 10, 19], [0, 10, 20], [0, 10, 21], [0, 10, 22], [0, 10, 23], [0, 10, 24], [0, 11, 12], [0, 11, 13], [0, 11, 14], [0, 11, 15], [0, 11, 16], [0, 11, 17], [0, 11, 18], [0, 11, 19], [0, 11, 20], [0, 11, 21], [0, 11, 22], [0, 11, 23], [0, 11, 24], [0, 12, 13], [0, 12, 14], [0, 12, 15], [0, 12, 16], [0, 12, 17], [0, 12, 18], [0, 12, 19], [0, 12, 20], [0, 12, 21], [0, 12, 22], [0, 12, 23], [0, 12, 24], [0, 13, 14], [0, 13, 15], [0, 13, 16], [0, 13, 17], [0, 13, 18], [0, 13, 19], [0, 13, 20], [0, 13, 21], [0, 13, 22], [0, 13, 23], [0, 13, 24], [0, 14, 15], [0, 14, 16], [0, 14, 17], [0, 14, 18], [0, 14, 19], [0, 14, 20], [0, 14, 21], [0, 14, 22], [0, 14, 23], [0, 14, 24], [0, 15, 16], [0, 15, 17], [0, 15, 18], [0, 15, 19], [0, 15, 20], [0, 15, 21], [0, 15, 22], [0, 15, 23], [0, 15, 24], [0, 16, 17], [0, 16, 18], [0, 16, 19], [0, 16, 20], [0, 16, 21], [0, 16, 22], [0, 16, 23], [0, 16, 24], [0, 17, 18], [0, 17, 19], [0, 17, 20], [0, 17, 21], [0, 17, 22], [0, 17, 23], [0, 17, 24], [0, 18, 19], [0, 18, 20], [0, 18, 21], [0, 18, 22], [0, 18, 23], [0, 18, 24], [0, 19, 20], [0, 19, 21], [0, 19, 22], [0, 19, 23], [0, 19, 24], [0, 20, 21], [0, 20, 22], [0, 20, 23], [0, 20, 24], [0, 21, 22], [0, 21, 23], [0, 21, 24], [0, 22, 23], [0, 22, 24], [0, 23, 24]]\n"
     ]
    }
   ],
   "source": [
    "selector = LayerSelector(3)\n",
    "layers = selector.select_layer()\n",
    "print(layers)"
   ]
  },
  {
   "cell_type": "code",
   "execution_count": 18,
   "id": "481fcf07",
   "metadata": {},
   "outputs": [],
   "source": [
    "'''\n",
    "load_arch\n",
    ": this function takes selected layer numbers and loads real shorcut weights from the shorcut model.\n",
    "\n",
    "linear_layers are list of the real weights.\n",
    "'''\n",
    "def load_arch(selected_layers):\n",
    "    base_path = \"linreg/mamba-130m-hf/xsum\"\n",
    "    linear_layers = []\n",
    "    for i in range(1, len(selected_layers)):\n",
    "        name = f\"{selected_layers[i-1]}_{selected_layers[i]}.pickle\"\n",
    "        full_path = os.path.join(base_path, name)\n",
    "        with open(full_path, 'rb') as file:\n",
    "            linreg = pickle.load(file)\n",
    "            linear_layers.append(linreg)\n",
    "    return linear_layers"
   ]
  },
  {
   "cell_type": "code",
   "execution_count": 19,
   "id": "4c260459",
   "metadata": {},
   "outputs": [
    {
     "name": "stdout",
     "output_type": "stream",
     "text": [
      "[0, 1, 2]\n"
     ]
    }
   ],
   "source": [
    "print(layers[0])"
   ]
  },
  {
   "cell_type": "code",
   "execution_count": 20,
   "id": "00b8bc19",
   "metadata": {},
   "outputs": [
    {
     "name": "stdout",
     "output_type": "stream",
     "text": [
      "torch.Size([768, 768])\n",
      "torch.Size([768, 768])\n"
     ]
    }
   ],
   "source": [
    "linear_layers = load_arch(layers[0])\n",
    "for layer in linear_layers:\n",
    "    print(layer.shape)"
   ]
  },
  {
   "cell_type": "code",
   "execution_count": 21,
   "id": "9b513833",
   "metadata": {},
   "outputs": [],
   "source": [
    "def beam_search_for_base(model, tokenizer, input_ids, beam_size=2, max_length=50):\n",
    "\n",
    "    finished_beams = []\n",
    "    running_beam = [(0, input_ids)]\n",
    "    input_len = len(input_ids)\n",
    "\n",
    "    start = time.time()\n",
    "    while len(finished_beams) < beam_size and running_beam:\n",
    "        beam_score, input_ids = running_beam.pop(0)\n",
    "        \n",
    "        outputs = model(input_ids)\n",
    "        logits = outputs.logits[:, -1, :]\n",
    "\n",
    "        # Choose top 2 (beam_size) tokens\n",
    "        top_k_values, top_k_indices = torch.topk(logits, beam_size, dim=-1)\n",
    " \n",
    "        input_ids_list = [input_ids] * beam_size\n",
    "    \n",
    "        for i in range(beam_size):\n",
    "            score = top_k_values[:,i]\n",
    "            token = top_k_indices[:,i]\n",
    "            \n",
    "            # Add the new token and update attention_mask\n",
    "            new_input_ids = torch.cat((input_ids_list[i], token.unsqueeze(0)), dim=-1)\n",
    "           \n",
    "            if token == tokenizer.eos_token_id or new_input_ids.shape[-1] > max_length + input_len:\n",
    "                finished_beams.append((beam_score + score, new_input_ids))\n",
    "            else:\n",
    "                running_beam.append((beam_score + score, new_input_ids))\n",
    "                \n",
    "        # Sort the running beams by score\n",
    "        running_beam.sort(key=lambda x: x[0], reverse=True)\n",
    "    \n",
    "    # Return the highest scoring finished beam\n",
    "    result = max(finished_beams, key=lambda x: x[0])[1]\n",
    "    end = time.time()\n",
    "    print('inference time : ',end-start)\n",
    "    return result"
   ]
  },
  {
   "cell_type": "code",
   "execution_count": 22,
   "id": "ee97dcf2",
   "metadata": {},
   "outputs": [],
   "source": [
    "def beam_search_for_sc(model, input_ids, beam_size=2, max_length=50):\n",
    "\n",
    "    finished_beams = []\n",
    "    running_beam = [(0, input_ids)]\n",
    "    input_len = len(input_ids)\n",
    "\n",
    "    start = time.time()\n",
    "    while len(finished_beams) < beam_size and running_beam:\n",
    "        beam_score, input_ids = running_beam.pop(0)\n",
    "        \n",
    "        outputs = model(input_ids)\n",
    "        logits = outputs[:, -1, :]\n",
    "\n",
    "        # Choose top 2 (beam_size) tokens\n",
    "        top_k_values, top_k_indices = torch.topk(logits, beam_size, dim=-1)\n",
    " \n",
    "        input_ids_list = [input_ids] * beam_size\n",
    "    \n",
    "        for i in range(beam_size):\n",
    "            score = top_k_values[:,i]\n",
    "            token = top_k_indices[:,i]\n",
    "            \n",
    "            # Add the new token and update attention_mask\n",
    "            new_input_ids = torch.cat((input_ids_list[i], token.unsqueeze(0)), dim=-1)\n",
    "           \n",
    "            if token == model.tokenizer.eos_token_id or new_input_ids.shape[-1] > max_length + input_len:\n",
    "                finished_beams.append((beam_score + score, new_input_ids))\n",
    "            else:\n",
    "                running_beam.append((beam_score + score, new_input_ids))\n",
    "                \n",
    "        # Sort the running beams by score\n",
    "        running_beam.sort(key=lambda x: x[0], reverse=True)\n",
    "    result = max(finished_beams, key=lambda x: x[0])[1]\n",
    "    end = time.time()\n",
    "    print('inference time : ',end-start)\n",
    "    # Return the highest scoring finished beam\n",
    "    return result"
   ]
  },
  {
   "cell_type": "code",
   "execution_count": 23,
   "id": "b3d1ca91",
   "metadata": {},
   "outputs": [],
   "source": [
    "class ShortcutModel(nn.Module):\n",
    "    def __init__(self, n, selected_layers):\n",
    "        super(ShortcutModel, self).__init__()\n",
    "        self.n = n\n",
    "        self.path = [nn.Linear(768, 768) for _ in range(self.n-1)]\n",
    "        self.selected_layers = selected_layers\n",
    "        self.weight_list = []\n",
    "        self.tokenizer = get_tokenizer('state-spaces/mamba-130m-hf')\n",
    "        self.basemodel = get_model('state-spaces/mamba-130m-hf')\n",
    "        self.vocab_size = self.tokenizer.vocab_size\n",
    "        self.emb_dim = self.basemodel.backbone.embeddings.embedding_dim\n",
    "        ## added tokens 23\n",
    "        self.embed = nn.Embedding(self.vocab_size+30, self.emb_dim)\n",
    "        self.norm = self.basemodel.backbone.norm_f\n",
    "        self.lm_head = self.basemodel.lm_head\n",
    "        \n",
    "        \n",
    "    def load_weights(self):\n",
    "        base_path = \"linreg/mamba-130m-hf/xsum\"\n",
    "        for i in range(1, self.n):\n",
    "            name = f\"{self.selected_layers[i-1]}_{self.selected_layers[i]}.pickle\"\n",
    "            full_path = os.path.join(base_path, name)\n",
    "            with open(full_path, 'rb') as file:\n",
    "                linreg = pickle.load(file)\n",
    "                self.weight_list.append(linreg)\n",
    "    \n",
    "    \n",
    "    def initialize(self):\n",
    "        for i in range(self.n-1):\n",
    "            self.path[i].weight.data = self.weight_list[i]\n",
    "        \n",
    "    def forward(self, x):\n",
    "        x = self.embed(x)\n",
    "        for layer in self.path:\n",
    "            x = layer(x)\n",
    "        x = self.norm(x)\n",
    "        x = self.lm_head(x)\n",
    " \n",
    "        return x\n",
    "\n",
    "    def original(self, x):\n",
    "        x = self.basemodel(x)\n",
    "        return x"
   ]
  },
  {
   "cell_type": "code",
   "execution_count": 24,
   "id": "cdfd878d",
   "metadata": {},
   "outputs": [
    {
     "name": "stderr",
     "output_type": "stream",
     "text": [
      "Special tokens have been added in the vocabulary, make sure the associated word embeddings are fine-tuned or trained.\n"
     ]
    }
   ],
   "source": [
    "shortcut_model = ShortcutModel(3, layers[0])\n",
    "shortcut_model.load_weights()\n",
    "shortcut_model.initialize()"
   ]
  },
  {
   "cell_type": "code",
   "execution_count": 26,
   "id": "03357887",
   "metadata": {},
   "outputs": [],
   "source": [
    "src_text = [\n",
    "    \"\"\" PG&E stated it scheduled the blackouts in response to forecasts for high winds amid dry conditions. The aim is to reduce the risk of wildfires. Nearly 800 thousand customers were scheduled to be affected by the shutoffs which were expected to last through at least midday tomorrow.\"\"\"\n",
    "]\n",
    "prefix = \"summarize this: \"\n",
    "suffix = \"Here's the summary: \"\n",
    "input_text = prefix + dataset['train']['document'][0]\n",
    "base_tokenized_input = basetokenizer.encode(input_text, return_tensors='pt')"
   ]
  },
  {
   "cell_type": "code",
   "execution_count": 27,
   "id": "072347ad",
   "metadata": {},
   "outputs": [
    {
     "name": "stdout",
     "output_type": "stream",
     "text": [
      "inference time :  1.8883771896362305\n"
     ]
    }
   ],
   "source": [
    "generated =beam_search_for_base(basemodel, basetokenizer, base_tokenized_input)\n",
    "tokens = generated[0]"
   ]
  },
  {
   "cell_type": "code",
   "execution_count": 29,
   "id": "8fb92a75",
   "metadata": {},
   "outputs": [
    {
     "name": "stdout",
     "output_type": "stream",
     "text": [
      "['summarize this: The full cost of damage in Newton Stewart, one of the areas worst affected, is still being assessed.\\nRepair work is ongoing in Hawick and many roads in Peeblesshire remain badly affected by standing water.\\nTrains on the west coast mainline face disruption due to damage at the Lamington Viaduct.\\nMany businesses and householders were affected by flooding in Newton Stewart after the River Cree overflowed into the town.\\nFirst Minister Nicola Sturgeon visited the area to inspect the damage.\\nThe waters breached a retaining wall, flooding many commercial properties on Victoria Street - the main shopping thoroughfare.\\nJeanette Tate, who owns the Cinnamon Cafe which was badly affected, said she could not fault the multi-agency response once the flood hit.\\nHowever, she said more preventative work could have been carried out to ensure the retaining wall did not fail.\\n\"It is difficult but I do think there is so much publicity for Dumfries and the Nith - and I totally appreciate that - but it is almost like we\\'re neglected or forgotten,\" she said.\\n\"That may not be true but it is perhaps my perspective over the last few days.\\n\"Why were you not ready to help us a bit more when the warning and the alarm alerts had gone out?\"\\nMeanwhile, a flood alert remains in place across the Borders because of the constant rain.\\nPeebles was badly hit by problems, sparking calls to introduce more defences in the area.\\nScottish Borders Council has put a list on its website of the roads worst affected and drivers have been urged not to ignore closure signs.\\nThe Labour Party\\'s deputy Scottish leader Alex Rowley was in Hawick on Monday to see the situation first hand.\\nHe said it was important to get the flood protection plan right but backed calls to speed up the process.\\n\"I was quite taken aback by the amount of damage that has been done,\" he said.\\n\"Obviously it is heart-breaking for people who have been forced out of their homes and the impact on businesses.\"\\nHe said it was important that \"immediate steps\" were taken to protect the areas most vulnerable and a clear timetable put in place for flood prevention plans.\\nHave you been affected by flooding in Dumfries and Galloway or the Borders? Tell us about your experience of the situation and how it was handled. Email us on selkirk.news@bbc.co.uk or dumfries@bbc.co.uk.\\n']\n"
     ]
    }
   ],
   "source": [
    "pred_original = basetokenizer.decode(tokens, skip_special_tokens=True).split(suffix)\n",
    "print(pred_original)"
   ]
  },
  {
   "cell_type": "code",
   "execution_count": 30,
   "id": "611c7860",
   "metadata": {},
   "outputs": [],
   "source": [
    "sc_tokenized_input = shortcut_model.tokenizer.encode(input_text, return_tensors='pt')\n",
    "if torch.any(sc_tokenized_input >= shortcut_model.tokenizer.vocab_size):\n",
    "    print('hi')"
   ]
  },
  {
   "cell_type": "code",
   "execution_count": 31,
   "id": "668cae10",
   "metadata": {
    "scrolled": true
   },
   "outputs": [
    {
     "name": "stdout",
     "output_type": "stream",
     "text": [
      "inference time :  0.09805631637573242\n"
     ]
    }
   ],
   "source": [
    "sc_generated = beam_search_for_sc(shortcut_model, sc_tokenized_input)\n",
    "sc_tokens = sc_generated[0]"
   ]
  },
  {
   "cell_type": "code",
   "execution_count": 32,
   "id": "ad6c2d15",
   "metadata": {},
   "outputs": [
    {
     "name": "stdout",
     "output_type": "stream",
     "text": [
      "['summarize this: The full cost of damage in Newton Stewart, one of the areas worst affected, is still being assessed.\\nRepair work is ongoing in Hawick and many roads in Peeblesshire remain badly affected by standing water.\\nTrains on the west coast mainline face disruption due to damage at the Lamington Viaduct.\\nMany businesses and householders were affected by flooding in Newton Stewart after the River Cree overflowed into the town.\\nFirst Minister Nicola Sturgeon visited the area to inspect the damage.\\nThe waters breached a retaining wall, flooding many commercial properties on Victoria Street - the main shopping thoroughfare.\\nJeanette Tate, who owns the Cinnamon Cafe which was badly affected, said she could not fault the multi-agency response once the flood hit.\\nHowever, she said more preventative work could have been carried out to ensure the retaining wall did not fail.\\n\"It is difficult but I do think there is so much publicity for Dumfries and the Nith - and I totally appreciate that - but it is almost like we\\'re neglected or forgotten,\" she said.\\n\"That may not be true but it is perhaps my perspective over the last few days.\\n\"Why were you not ready to help us a bit more when the warning and the alarm alerts had gone out?\"\\nMeanwhile, a flood alert remains in place across the Borders because of the constant rain.\\nPeebles was badly hit by problems, sparking calls to introduce more defences in the area.\\nScottish Borders Council has put a list on its website of the roads worst affected and drivers have been urged not to ignore closure signs.\\nThe Labour Party\\'s deputy Scottish leader Alex Rowley was in Hawick on Monday to see the situation first hand.\\nHe said it was important to get the flood protection plan right but backed calls to speed up the process.\\n\"I was quite taken aback by the amount of damage that has been done,\" he said.\\n\"Obviously it is heart-breaking for people who have been forced out of their homes and the impact on businesses.\"\\nHe said it was important that \"immediate steps\" were taken to protect the areas most vulnerable and a clear timetable put in place for flood prevention plans.\\nHave you been affected by flooding in Dumfries and Galloway or the Borders? Tell us about your experience of the situation and how it was handled. Email us on selkirk.news@bbc.co.uk or dumfries@bbc.co.uk.acebook']\n"
     ]
    }
   ],
   "source": [
    "sc_pred = shortcut_model.tokenizer.decode(sc_tokens, skip_special_tokens=True).split(suffix)\n",
    "print(sc_pred )"
   ]
  },
  {
   "cell_type": "code",
   "execution_count": 35,
   "id": "0917c41e",
   "metadata": {},
   "outputs": [],
   "source": [
    "def get_score():\n",
    "    rouge = evaluate.load('rouge')\n",
    "    scores = rouge.compute(predictions=pred_original, references=sc_pred)\n",
    "    print(scores)"
   ]
  },
  {
   "cell_type": "code",
   "execution_count": 36,
   "id": "652e4126",
   "metadata": {},
   "outputs": [
    {
     "name": "stdout",
     "output_type": "stream",
     "text": [
      "{'rouge1': 0.9987819732034106, 'rouge2': 0.9987789987789988, 'rougeL': 0.9987819732034106, 'rougeLsum': 0.9987819732034106}\n"
     ]
    }
   ],
   "source": [
    "get_score()"
   ]
  },
  {
   "cell_type": "code",
   "execution_count": null,
   "id": "600164f3",
   "metadata": {},
   "outputs": [],
   "source": []
  }
 ],
 "metadata": {
  "kernelspec": {
   "display_name": "Python 3 (ipykernel)",
   "language": "python",
   "name": "python3"
  },
  "language_info": {
   "codemirror_mode": {
    "name": "ipython",
    "version": 3
   },
   "file_extension": ".py",
   "mimetype": "text/x-python",
   "name": "python",
   "nbconvert_exporter": "python",
   "pygments_lexer": "ipython3",
   "version": "3.10.4"
  }
 },
 "nbformat": 4,
 "nbformat_minor": 5
}
